{
 "cells": [
  {
   "metadata": {},
   "cell_type": "markdown",
   "source": [
    "# Datenanalyse \n",
    "Der kombinierte Datensatz fertig.csv soll analysiert werden \n",
    "Ziel ist es zu überprüfen ob sich spannende Informationen ergeben\n"
   ],
   "id": "be22b29e22e75711"
  },
  {
   "metadata": {},
   "cell_type": "markdown",
   "source": "Imports and other stuff",
   "id": "1a064618346bd1d"
  },
  {
   "metadata": {
    "ExecuteTime": {
     "end_time": "2025-10-01T11:57:34.117707Z",
     "start_time": "2025-10-01T11:57:21.141679Z"
    }
   },
   "cell_type": "code",
   "source": [
    "import pandas as pd\n",
    "\n",
    "file_path1 = \"fertig.csv\"\n",
    "from pathlib import Path\n",
    "import matplotlib.pyplot as plt\n",
    "# Pfad zum Wurzelordner mit allen Bildern\n",
    "ROOT_DIR = Path(\"/Users/davidassmann/Desktop/GuI/Objektbilder\")   # <- anpassen!\n",
    "\n",
    "# Dateiendungen, die gezählt werden sollen\n",
    "IMG_EXTS = {\".jpg\", \".jpeg\", \".png\", \".tif\", \".tiff\"}"
   ],
   "id": "2d2157d0d833b08d",
   "outputs": [
    {
     "name": "stderr",
     "output_type": "stream",
     "text": [
      "Matplotlib is building the font cache; this may take a moment.\n"
     ]
    }
   ],
   "execution_count": 52
  },
  {
   "metadata": {},
   "cell_type": "markdown",
   "source": "Creating the DataFrame",
   "id": "b77fba32d271569d"
  },
  {
   "metadata": {
    "ExecuteTime": {
     "end_time": "2025-10-01T11:49:05.814900Z",
     "start_time": "2025-10-01T11:49:05.809341Z"
    }
   },
   "cell_type": "code",
   "source": [
    "\n",
    "df = pd.read_csv(file_path1, encoding=\"latin1\", sep=\",\")"
   ],
   "id": "7f459df86c375624",
   "outputs": [],
   "execution_count": 44
  },
  {
   "metadata": {
    "ExecuteTime": {
     "end_time": "2025-10-01T11:49:05.821744Z",
     "start_time": "2025-10-01T11:49:05.815926Z"
    }
   },
   "cell_type": "code",
   "source": [
    "print(df)\n",
    "print(df.shape)       # Zeilen, Spalten\n",
    "print(df.columns)     # alle Spaltennamen\n"
   ],
   "id": "421dbd1c6b7efbca",
   "outputs": [
    {
     "name": "stdout",
     "output_type": "stream",
     "text": [
      "      0   1   2   3              4  \\\n",
      "0   NaN NaN NaN NaN  1-2024-0061 0   \n",
      "1   NaN NaN NaN NaN  1-2024-0062 0   \n",
      "2   NaN NaN NaN NaN  1-2024-0063 0   \n",
      "3   NaN NaN NaN NaN  1-2024-0064 0   \n",
      "4   NaN NaN NaN NaN  1-2024-0065 0   \n",
      "..   ..  ..  ..  ..            ...   \n",
      "96  NaN NaN NaN NaN  1-2025-0523 0   \n",
      "97  NaN NaN NaN NaN  1-2025-0524 0   \n",
      "98  NaN NaN NaN NaN  1-2025-0603 0   \n",
      "99  NaN NaN NaN NaN  1-2025-0759 0   \n",
      "100 NaN NaN NaN NaN  1-2025-0767 0   \n",
      "\n",
      "                                                     5   6   7   8   9  ...  \\\n",
      "0                              RFT Fernmeldewerk (VEB) NaN NaN NaN NaN  ...   \n",
      "1                              RFT Fernmeldewerk (VEB) NaN NaN NaN NaN  ...   \n",
      "2                       Siemens & Halske AG\\nunbekannt NaN NaN NaN NaN  ...   \n",
      "3                       Siemens & Halske AG\\nunbekannt NaN NaN NaN NaN  ...   \n",
      "4                       Siemens & Halske AG\\nunbekannt NaN NaN NaN NaN  ...   \n",
      "..                                                 ...  ..  ..  ..  ..  ...   \n",
      "96                                 Bingwerke / Orga AG NaN NaN NaN NaN  ...   \n",
      "97   Adler-Werke vorm.Heinrich Kleyer AG\\nJaschke &... NaN NaN NaN NaN  ...   \n",
      "98                                        ohne Angaben NaN NaN NaN NaN  ...   \n",
      "99   Ludwig Reischl\\nBingwerke / Orga AG\\nBernd Lic... NaN NaN NaN NaN  ...   \n",
      "100  VEB Schreibmaschinenwerk Dresden im VEB Kombin... NaN NaN NaN NaN  ...   \n",
      "\n",
      "     74  75                                    76  77  \\\n",
      "0   NaN NaN              RZ 6.KTD SR 05.F 15.B 07 NaN   \n",
      "1   NaN NaN              RZ 6.KTD SR 05.F 15.B 07 NaN   \n",
      "2   NaN NaN              RZ 6.KTD SR 05.F 15.B 07 NaN   \n",
      "3   NaN NaN              RZ 6.KTD SR 05.F 15.B 07 NaN   \n",
      "4   NaN NaN              RZ 6.KTD SR 05.F 15.B 07 NaN   \n",
      "..   ..  ..                                   ...  ..   \n",
      "96  NaN NaN  Restaurierungswerkstatt Mittelbau EG NaN   \n",
      "97  NaN NaN  Restaurierungswerkstatt Mittelbau EG NaN   \n",
      "98  NaN NaN              RZ 6.KTD SR 08.F 11.B 06 NaN   \n",
      "99  NaN NaN              RZ 6.KTD SR 16.F 49.B 06 NaN   \n",
      "100 NaN NaN              RZ 6.KTD SR 16.F 39.B 05 NaN   \n",
      "\n",
      "                                                    78  79  \\\n",
      "0    Der Tischapparat W 38 (WÅ hlapparat 38) wurde ... NaN   \n",
      "1    Der Tischapparat W 38 (WÅ hlapparat 38) wurde ... NaN   \n",
      "2    Das analoge Wandtelefon W 28 (WÅ hlapparat 28)... NaN   \n",
      "3    Prinzip der Reihenanlage: \\nDie Reihenanlage (... NaN   \n",
      "4                                                  NaN NaN   \n",
      "..                                                 ...  ..   \n",
      "96                                                 NaN NaN   \n",
      "97                                                 NaN NaN   \n",
      "98                                                 NaN NaN   \n",
      "99                                                 NaN NaN   \n",
      "100                                                NaN NaN   \n",
      "\n",
      "                                                    80  \\\n",
      "0                                                  NaN   \n",
      "1                                                  NaN   \n",
      "2                                                  NaN   \n",
      "3                                                  NaN   \n",
      "4                                                  NaN   \n",
      "..                                                 ...   \n",
      "96                                                 NaN   \n",
      "97                                                 NaN   \n",
      "98                                                 NaN   \n",
      "99   IFHB SM-Lexikon-1590 zu Schreibmaschine Orga P...   \n",
      "100                                                NaN   \n",
      "\n",
      "                                                    81  \\\n",
      "0    \\\\dtmbgw2\\museumplus\\Objektbilder\\verknÅ¸pft\\2...   \n",
      "1    \\\\dtmbgw2\\museumplus\\Objektbilder\\verknÅ¸pft\\2...   \n",
      "2    \\\\dtmbgw2\\museumplus\\Objektbilder\\verknÅ¸pft\\2...   \n",
      "3    \\\\dtmbgw2\\museumplus\\Objektbilder\\verknÅ¸pft\\2...   \n",
      "4    \\\\dtmbgw2\\museumplus\\Objektbilder\\verknÅ¸pft\\2...   \n",
      "..                                                 ...   \n",
      "96                                                 NaN   \n",
      "97                                                 NaN   \n",
      "98   \\\\dtmbgw2\\museumplus\\Objektbilder\\verknÅ¸pft\\2...   \n",
      "99   \\\\dtmbgw2\\museumplus\\Objektbilder\\verknÅ¸pft\\2...   \n",
      "100  \\\\dtmbgw2\\museumplus\\Objektbilder\\verknÅ¸pft\\2...   \n",
      "\n",
      "                                 82  83  \n",
      "0    Herstellungsjahr, 1950er Jahre NaN  \n",
      "1    Herstellungsjahr, 1950er Jahre NaN  \n",
      "2                      1930er Jahre NaN  \n",
      "3                      1960er Jahre NaN  \n",
      "4                      1960er Jahre NaN  \n",
      "..                              ...  ..  \n",
      "96                      1927 - 1929 NaN  \n",
      "97                      1927 - 1929 NaN  \n",
      "98                              NaN NaN  \n",
      "99                      1923 - 1953 NaN  \n",
      "100                     1965 - 1976 NaN  \n",
      "\n",
      "[101 rows x 84 columns]\n"
     ]
    }
   ],
   "execution_count": 45
  },
  {
   "metadata": {
    "ExecuteTime": {
     "end_time": "2025-10-01T11:49:05.825370Z",
     "start_time": "2025-10-01T11:49:05.823231Z"
    }
   },
   "cell_type": "code",
   "source": "",
   "id": "d225f7dc87ceaf0a",
   "outputs": [
    {
     "name": "stdout",
     "output_type": "stream",
     "text": [
      "(101, 84)\n",
      "Index(['0', '1', '2', '3', '4', '5', '6', '7', '8', '9', '10', '11', '12',\n",
      "       '13', '14', '15', '16', '17', '18', '19', '20', '21', '22', '23', '24',\n",
      "       '25', '26', '27', '28', '29', '30', '31', '32', '33', '34', '35', '36',\n",
      "       '37', '38', '39', '40', '41', '42', '43', '44', '45', '46', '47', '48',\n",
      "       '49', '50', '51', '52', '53', '54', '55', '56', '57', '58', '59', '60',\n",
      "       '61', '62', '63', '64', '65', '66', '67', '68', '69', '70', '71', '72',\n",
      "       '73', '74', '75', '76', '77', '78', '79', '80', '81', '82', '83'],\n",
      "      dtype='object')\n"
     ]
    }
   ],
   "execution_count": 46
  },
  {
   "metadata": {
    "ExecuteTime": {
     "end_time": "2025-10-01T11:49:05.832238Z",
     "start_time": "2025-10-01T11:49:05.826128Z"
    }
   },
   "cell_type": "code",
   "source": [
    "# Spalte 4 (E) bereinigen und im DataFrame überschreiben\n",
    "df.iloc[:, 4] = (\n",
    "    df.iloc[:, 4]\n",
    "    .astype(str)              # sicherstellen, dass es Strings sind\n",
    "    .str.strip()              # Leerzeichen vorne/hinten weg\n",
    "    .str.replace(r\"\\s+0+$\", \"\", regex=True)   # \" 0\" am Ende entfernen\n",
    ")\n",
    "\n",
    "# Kontrolle\n",
    "print(df.head(10))\n"
   ],
   "id": "aed626d55b4d8075",
   "outputs": [
    {
     "name": "stdout",
     "output_type": "stream",
     "text": [
      "    0   1   2   3            4  \\\n",
      "0 NaN NaN NaN NaN  1-2024-0061   \n",
      "1 NaN NaN NaN NaN  1-2024-0062   \n",
      "2 NaN NaN NaN NaN  1-2024-0063   \n",
      "3 NaN NaN NaN NaN  1-2024-0064   \n",
      "4 NaN NaN NaN NaN  1-2024-0065   \n",
      "5 NaN NaN NaN NaN  1-2024-0066   \n",
      "6 NaN NaN NaN NaN  1-2024-0070   \n",
      "7 NaN NaN NaN NaN  1-2024-0071   \n",
      "8 NaN NaN NaN NaN  1-2024-0072   \n",
      "9 NaN NaN NaN NaN  1-2024-0073   \n",
      "\n",
      "                                                   5   6   7   8   9  ...  74  \\\n",
      "0                            RFT Fernmeldewerk (VEB) NaN NaN NaN NaN  ... NaN   \n",
      "1                            RFT Fernmeldewerk (VEB) NaN NaN NaN NaN  ... NaN   \n",
      "2                     Siemens & Halske AG\\nunbekannt NaN NaN NaN NaN  ... NaN   \n",
      "3                     Siemens & Halske AG\\nunbekannt NaN NaN NaN NaN  ... NaN   \n",
      "4                     Siemens & Halske AG\\nunbekannt NaN NaN NaN NaN  ... NaN   \n",
      "5                     Siemens & Halske AG\\nunbekannt NaN NaN NaN NaN  ... NaN   \n",
      "6  Philips - Koninklijke Philips N. V.\\nMuharrem ... NaN NaN NaN NaN  ... NaN   \n",
      "7      VEB Fernmeldewerk Nordhausen (RFT)\\nunbekannt NaN NaN NaN NaN  ... NaN   \n",
      "8      VEB Fernmeldewerk Nordhausen (RFT)\\nunbekannt NaN NaN NaN NaN  ... NaN   \n",
      "9      VEB Fernmeldewerk Nordhausen (RFT)\\nunbekannt NaN NaN NaN NaN  ... NaN   \n",
      "\n",
      "   75                        76  77  \\\n",
      "0 NaN  RZ 6.KTD SR 05.F 15.B 07 NaN   \n",
      "1 NaN  RZ 6.KTD SR 05.F 15.B 07 NaN   \n",
      "2 NaN  RZ 6.KTD SR 05.F 15.B 07 NaN   \n",
      "3 NaN  RZ 6.KTD SR 05.F 15.B 07 NaN   \n",
      "4 NaN  RZ 6.KTD SR 05.F 15.B 07 NaN   \n",
      "5 NaN  RZ 6.KTD SR 05.F 15.B 07 NaN   \n",
      "6 NaN  RZ 6.KTD.SR 02.F 23.B 01 NaN   \n",
      "7 NaN  RZ 6.KTD SR 05.F 13.B 03 NaN   \n",
      "8 NaN  RZ 6.KTD SR 05.F 13.B 03 NaN   \n",
      "9 NaN  RZ 6.KTD SR 05.F 15.B 06 NaN   \n",
      "\n",
      "                                                  78  79  \\\n",
      "0  Der Tischapparat W 38 (WÅ hlapparat 38) wurde ... NaN   \n",
      "1  Der Tischapparat W 38 (WÅ hlapparat 38) wurde ... NaN   \n",
      "2  Das analoge Wandtelefon W 28 (WÅ hlapparat 28)... NaN   \n",
      "3  Prinzip der Reihenanlage: \\nDie Reihenanlage (... NaN   \n",
      "4                                                NaN NaN   \n",
      "5                                                NaN NaN   \n",
      "6                                                NaN NaN   \n",
      "7                                                NaN NaN   \n",
      "8                                                NaN NaN   \n",
      "9                                                NaN NaN   \n",
      "\n",
      "                                                  80  \\\n",
      "0                                                NaN   \n",
      "1                                                NaN   \n",
      "2                                                NaN   \n",
      "3                                                NaN   \n",
      "4                                                NaN   \n",
      "5                                                NaN   \n",
      "6  https://www.radiomuseum.org/r/philips_fernseh_...   \n",
      "7                                                NaN   \n",
      "8                                                NaN   \n",
      "9                                                NaN   \n",
      "\n",
      "                                                  81  \\\n",
      "0  \\\\dtmbgw2\\museumplus\\Objektbilder\\verknÅ¸pft\\2...   \n",
      "1  \\\\dtmbgw2\\museumplus\\Objektbilder\\verknÅ¸pft\\2...   \n",
      "2  \\\\dtmbgw2\\museumplus\\Objektbilder\\verknÅ¸pft\\2...   \n",
      "3  \\\\dtmbgw2\\museumplus\\Objektbilder\\verknÅ¸pft\\2...   \n",
      "4  \\\\dtmbgw2\\museumplus\\Objektbilder\\verknÅ¸pft\\2...   \n",
      "5  \\\\dtmbgw2\\museumplus\\Objektbilder\\verknÅ¸pft\\2...   \n",
      "6  \\\\dtmbgw2\\museumplus\\Objektbilder\\verknÅ¸pft\\2...   \n",
      "7  \\\\dtmbgw2\\museumplus\\Objektbilder\\verknÅ¸pft\\2...   \n",
      "8  \\\\dtmbgw2\\museumplus\\Objektbilder\\verknÅ¸pft\\2...   \n",
      "9  \\\\dtmbgw2\\museumplus\\Objektbilder\\verknÅ¸pft\\2...   \n",
      "\n",
      "                               82  83  \n",
      "0  Herstellungsjahr, 1950er Jahre NaN  \n",
      "1  Herstellungsjahr, 1950er Jahre NaN  \n",
      "2                    1930er Jahre NaN  \n",
      "3                    1960er Jahre NaN  \n",
      "4                    1960er Jahre NaN  \n",
      "5                    1960er Jahre NaN  \n",
      "6                            1960 NaN  \n",
      "7          Herstellungsjahr, 1973 NaN  \n",
      "8          Herstellungsjahr, 1976 NaN  \n",
      "9          Herstellungsjahr, 1986 NaN  \n",
      "\n",
      "[10 rows x 84 columns]\n"
     ]
    }
   ],
   "execution_count": 47
  },
  {
   "metadata": {
    "ExecuteTime": {
     "end_time": "2025-10-01T11:49:21.157157Z",
     "start_time": "2025-10-01T11:49:05.832979Z"
    }
   },
   "cell_type": "code",
   "source": [
    "# Hilfsfunktion: wie viele Bilder gibt es zu einer Objektnummer?\n",
    "def count_images_for_number(number: str, root: Path) -> int:\n",
    "    number = str(number).strip()\n",
    "    if not number or number.lower() == \"nan\":\n",
    "        return 0\n",
    "\n",
    "    hits = []\n",
    "    for p in root.rglob(\"*\"):\n",
    "        if p.is_file() and p.suffix.lower() in IMG_EXTS:\n",
    "            if p.stem.startswith(number):  # stem = Dateiname ohne Endung\n",
    "                hits.append(p)\n",
    "    return len(hits)\n",
    "\n",
    "\n",
    "# Neue Spalte \"image_count\" anlegen (Spalte 4 = E)\n",
    "df[\"image_count\"] = df.iloc[:, 4].apply(lambda num: count_images_for_number(num, ROOT_DIR))\n",
    "\n",
    "# Kontrolle\n",
    "print(df[[\"image_count\"]].head())"
   ],
   "id": "d5310abe496fc4e4",
   "outputs": [
    {
     "name": "stdout",
     "output_type": "stream",
     "text": [
      "   image_count\n",
      "0            7\n",
      "1            6\n",
      "2            7\n",
      "3            6\n",
      "4            6\n"
     ]
    }
   ],
   "execution_count": 48
  },
  {
   "metadata": {
    "ExecuteTime": {
     "end_time": "2025-10-01T11:51:22.174931Z",
     "start_time": "2025-10-01T11:51:22.168461Z"
    }
   },
   "cell_type": "code",
   "source": "print(df)",
   "id": "e916a9f2ef698979",
   "outputs": [
    {
     "name": "stdout",
     "output_type": "stream",
     "text": [
      "      0   1   2   3            4  \\\n",
      "0   NaN NaN NaN NaN  1-2024-0061   \n",
      "1   NaN NaN NaN NaN  1-2024-0062   \n",
      "2   NaN NaN NaN NaN  1-2024-0063   \n",
      "3   NaN NaN NaN NaN  1-2024-0064   \n",
      "4   NaN NaN NaN NaN  1-2024-0065   \n",
      "..   ..  ..  ..  ..          ...   \n",
      "96  NaN NaN NaN NaN  1-2025-0523   \n",
      "97  NaN NaN NaN NaN  1-2025-0524   \n",
      "98  NaN NaN NaN NaN  1-2025-0603   \n",
      "99  NaN NaN NaN NaN  1-2025-0759   \n",
      "100 NaN NaN NaN NaN  1-2025-0767   \n",
      "\n",
      "                                                     5   6   7   8   9  ...  \\\n",
      "0                              RFT Fernmeldewerk (VEB) NaN NaN NaN NaN  ...   \n",
      "1                              RFT Fernmeldewerk (VEB) NaN NaN NaN NaN  ...   \n",
      "2                       Siemens & Halske AG\\nunbekannt NaN NaN NaN NaN  ...   \n",
      "3                       Siemens & Halske AG\\nunbekannt NaN NaN NaN NaN  ...   \n",
      "4                       Siemens & Halske AG\\nunbekannt NaN NaN NaN NaN  ...   \n",
      "..                                                 ...  ..  ..  ..  ..  ...   \n",
      "96                                 Bingwerke / Orga AG NaN NaN NaN NaN  ...   \n",
      "97   Adler-Werke vorm.Heinrich Kleyer AG\\nJaschke &... NaN NaN NaN NaN  ...   \n",
      "98                                        ohne Angaben NaN NaN NaN NaN  ...   \n",
      "99   Ludwig Reischl\\nBingwerke / Orga AG\\nBernd Lic... NaN NaN NaN NaN  ...   \n",
      "100  VEB Schreibmaschinenwerk Dresden im VEB Kombin... NaN NaN NaN NaN  ...   \n",
      "\n",
      "     75                                    76  77  \\\n",
      "0   NaN              RZ 6.KTD SR 05.F 15.B 07 NaN   \n",
      "1   NaN              RZ 6.KTD SR 05.F 15.B 07 NaN   \n",
      "2   NaN              RZ 6.KTD SR 05.F 15.B 07 NaN   \n",
      "3   NaN              RZ 6.KTD SR 05.F 15.B 07 NaN   \n",
      "4   NaN              RZ 6.KTD SR 05.F 15.B 07 NaN   \n",
      "..   ..                                   ...  ..   \n",
      "96  NaN  Restaurierungswerkstatt Mittelbau EG NaN   \n",
      "97  NaN  Restaurierungswerkstatt Mittelbau EG NaN   \n",
      "98  NaN              RZ 6.KTD SR 08.F 11.B 06 NaN   \n",
      "99  NaN              RZ 6.KTD SR 16.F 49.B 06 NaN   \n",
      "100 NaN              RZ 6.KTD SR 16.F 39.B 05 NaN   \n",
      "\n",
      "                                                    78  79  \\\n",
      "0    Der Tischapparat W 38 (WÅ hlapparat 38) wurde ... NaN   \n",
      "1    Der Tischapparat W 38 (WÅ hlapparat 38) wurde ... NaN   \n",
      "2    Das analoge Wandtelefon W 28 (WÅ hlapparat 28)... NaN   \n",
      "3    Prinzip der Reihenanlage: \\nDie Reihenanlage (... NaN   \n",
      "4                                                  NaN NaN   \n",
      "..                                                 ...  ..   \n",
      "96                                                 NaN NaN   \n",
      "97                                                 NaN NaN   \n",
      "98                                                 NaN NaN   \n",
      "99                                                 NaN NaN   \n",
      "100                                                NaN NaN   \n",
      "\n",
      "                                                    80  \\\n",
      "0                                                  NaN   \n",
      "1                                                  NaN   \n",
      "2                                                  NaN   \n",
      "3                                                  NaN   \n",
      "4                                                  NaN   \n",
      "..                                                 ...   \n",
      "96                                                 NaN   \n",
      "97                                                 NaN   \n",
      "98                                                 NaN   \n",
      "99   IFHB SM-Lexikon-1590 zu Schreibmaschine Orga P...   \n",
      "100                                                NaN   \n",
      "\n",
      "                                                    81  \\\n",
      "0    \\\\dtmbgw2\\museumplus\\Objektbilder\\verknÅ¸pft\\2...   \n",
      "1    \\\\dtmbgw2\\museumplus\\Objektbilder\\verknÅ¸pft\\2...   \n",
      "2    \\\\dtmbgw2\\museumplus\\Objektbilder\\verknÅ¸pft\\2...   \n",
      "3    \\\\dtmbgw2\\museumplus\\Objektbilder\\verknÅ¸pft\\2...   \n",
      "4    \\\\dtmbgw2\\museumplus\\Objektbilder\\verknÅ¸pft\\2...   \n",
      "..                                                 ...   \n",
      "96                                                 NaN   \n",
      "97                                                 NaN   \n",
      "98   \\\\dtmbgw2\\museumplus\\Objektbilder\\verknÅ¸pft\\2...   \n",
      "99   \\\\dtmbgw2\\museumplus\\Objektbilder\\verknÅ¸pft\\2...   \n",
      "100  \\\\dtmbgw2\\museumplus\\Objektbilder\\verknÅ¸pft\\2...   \n",
      "\n",
      "                                 82  83  image_count  \n",
      "0    Herstellungsjahr, 1950er Jahre NaN            7  \n",
      "1    Herstellungsjahr, 1950er Jahre NaN            6  \n",
      "2                      1930er Jahre NaN            7  \n",
      "3                      1960er Jahre NaN            6  \n",
      "4                      1960er Jahre NaN            6  \n",
      "..                              ...  ..          ...  \n",
      "96                      1927 - 1929 NaN            0  \n",
      "97                      1927 - 1929 NaN            0  \n",
      "98                              NaN NaN            5  \n",
      "99                      1923 - 1953 NaN            4  \n",
      "100                     1965 - 1976 NaN            5  \n",
      "\n",
      "[101 rows x 85 columns]\n"
     ]
    }
   ],
   "execution_count": 51
  },
  {
   "metadata": {
    "ExecuteTime": {
     "end_time": "2025-10-01T11:58:29.960359Z",
     "start_time": "2025-10-01T11:58:29.865906Z"
    }
   },
   "cell_type": "code",
   "source": [
    "# Basisstatistiken für die Spalte 'image_count'\n",
    "print(\"Minimale Anzahl Bilder:\", df[\"image_count\"].min())\n",
    "print(\"Maximale Anzahl Bilder:\", df[\"image_count\"].max())\n",
    "print(\"Durchschnittliche Anzahl Bilder:\", df[\"image_count\"].mean())\n",
    "print(\"Median:\", df[\"image_count\"].median())\n",
    "\n",
    "# Histogramm\n",
    "plt.figure(figsize=(8,5))\n",
    "plt.hist(df[\"image_count\"], bins=range(0, df[\"image_count\"].max()+2), edgecolor=\"black\")\n",
    "plt.title(\"Verteilung der Bildanzahl pro Objekt\")\n",
    "plt.xlabel(\"Anzahl Bilder\")\n",
    "plt.ylabel(\"Anzahl Objekte\")\n",
    "plt.xticks(range(0, df[\"image_count\"].max()+1))\n",
    "plt.show()"
   ],
   "id": "3a8247d61645b256",
   "outputs": [
    {
     "name": "stdout",
     "output_type": "stream",
     "text": [
      "Minimale Anzahl Bilder: 0\n",
      "Maximale Anzahl Bilder: 13\n",
      "Durchschnittliche Anzahl Bilder: 4.267326732673268\n",
      "Median: 4.0\n"
     ]
    },
    {
     "data": {
      "text/plain": [
       "<Figure size 800x500 with 1 Axes>"
      ],
      "image/png": "[encoded data removed]"
     },
     "metadata": {},
     "output_type": "display_data"
    }
   ],
   "execution_count": 53
  },
  {
   "metadata": {
    "ExecuteTime": {
     "end_time": "2025-10-01T12:18:00.479998Z",
     "start_time": "2025-10-01T12:18:00.433888Z"
    }
   },
   "cell_type": "code",
   "source": [
    "plt.figure(figsize=(10,2.5))\n",
    "\n",
    "# Boxplot mit schöneren Farben & breiterer Box\n",
    "plt.boxplot(\n",
    "    df[\"image_count\"],\n",
    "    vert=False,                 # horizontal\n",
    "    patch_artist=True,          # Box mit Farbe füllen\n",
    "    widths=0.6,                 # Boxbreite\n",
    "    boxprops=dict(facecolor=\"#87CEFA\", color=\"#1E90FF\", linewidth=1.5),  # hellblau, blauer Rand\n",
    "    medianprops=dict(color=\"red\", linewidth=2),                           # roter Medianstrich\n",
    "    whiskerprops=dict(color=\"#1E90FF\", linewidth=1.5),                    # Whisker\n",
    "    capprops=dict(color=\"#1E90FF\", linewidth=1.5),                        # Endkappen\n",
    "    flierprops=dict(marker=\"o\", markerfacecolor=\"orange\", markersize=6, alpha=0.7) # Ausreißer\n",
    ")\n",
    "\n",
    "plt.title(\"Boxplot – Anzahl der Bilder pro Objekt\", fontsize=14, fontweight=\"bold\")\n",
    "plt.xlabel(\"Anzahl Bilder\", fontsize=12)\n",
    "plt.grid(axis=\"x\", linestyle=\"--\", alpha=0.6)   # dezentes Raster\n",
    "\n",
    "plt.show()"
   ],
   "id": "5b9fa50d2c9d8fd8",
   "outputs": [
    {
     "data": {
      "text/plain": [
       "<Figure size 1000x250 with 1 Axes>"
      ],
      "image/png": "[encoded data removed]"
     },
     "metadata": {},
     "output_type": "display_data"
    }
   ],
   "execution_count": 55
  }
 ],
 "metadata": {
  "kernelspec": {
   "display_name": "Python 3",
   "language": "python",
   "name": "python3"
  },
  "language_info": {
   "codemirror_mode": {
    "name": "ipython",
    "version": 2
   },
   "file_extension": ".py",
   "mimetype": "text/x-python",
   "name": "python",
   "nbconvert_exporter": "python",
   "pygments_lexer": "ipython2",
   "version": "2.7.6"
  }
 },
 "nbformat": 4,
 "nbformat_minor": 5
}
