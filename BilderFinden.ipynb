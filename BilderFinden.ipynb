{
 "cells": [
  {
   "cell_type": "code",
   "id": "initial_id",
   "metadata": {
    "collapsed": true,
    "ExecuteTime": {
     "end_time": "2025-09-30T13:05:36.490635Z",
     "start_time": "2025-09-30T13:05:36.487697Z"
    }
   },
   "source": [
    "from pathlib import Path\n",
    "import shutil\n",
    "import pandas as pd\n",
    "from datetime import datetime"
   ],
   "outputs": [],
   "execution_count": 2
  },
  {
   "metadata": {
    "ExecuteTime": {
     "end_time": "2025-09-30T13:05:36.495351Z",
     "start_time": "2025-09-30T13:05:36.492367Z"
    }
   },
   "cell_type": "code",
   "source": [
    "# --- Einstellungen ---\n",
    "ROOT_DIR = Path(\"/Users/davidassmann/Desktop/GuI/Objektbilder\")  # anpassen\n",
    "PREFIXES = [\"1-2024-0062\"]  # mehrere möglich\n",
    "EXTS = {\".jpg\", \".jpeg\", \".png\", \".tif\", \".tiff\"}\n",
    "CASE_INSENSITIVE = True\n",
    "ONLY_PREFIX_START = True\n",
    "\n",
    "# Zielordner (wird neu erstellt, falls er nicht existiert)\n",
    "DEST_DIR = Path(\"/Users/davidassmann/Desktop/GuI/GefilterteteBilder\")\n",
    "DEST_DIR.mkdir(parents=True, exist_ok=True)"
   ],
   "id": "86e8d995d4a2a0c",
   "outputs": [],
   "execution_count": 3
  },
  {
   "metadata": {
    "ExecuteTime": {
     "end_time": "2025-09-30T13:05:36.959648Z",
     "start_time": "2025-09-30T13:05:36.496313Z"
    }
   },
   "cell_type": "code",
   "source": [
    "#die richtigen Bilder finden\n",
    "def find_images_by_prefix(root: Path, prefixes, exts, case_insensitive=True, only_prefix_start=True):\n",
    "    prefixes_norm = [p.lower().strip() if case_insensitive else p.strip() for p in prefixes]\n",
    "    results = []\n",
    "\n",
    "    for p in root.rglob(\"*\"):\n",
    "        if not p.is_file():\n",
    "            continue\n",
    "        if p.suffix.lower() not in exts:\n",
    "            continue\n",
    "\n",
    "        name = p.name\n",
    "        key = name.lower() if case_insensitive else name\n",
    "\n",
    "        for pref in prefixes_norm:\n",
    "            if only_prefix_start and key.startswith(pref):\n",
    "                results.append(p)\n",
    "                break\n",
    "            elif not only_prefix_start and pref in key:\n",
    "                results.append(p)\n",
    "                break\n",
    "\n",
    "    return results\n",
    "\n",
    "hits = find_images_by_prefix(ROOT_DIR, PREFIXES, EXTS, case_insensitive=CASE_INSENSITIVE, only_prefix_start=ONLY_PREFIX_START)\n",
    "print(f\"{len(hits)} Dateien gefunden\")\n"
   ],
   "id": "59a3f51d750fb87f",
   "outputs": [
    {
     "name": "stdout",
     "output_type": "stream",
     "text": [
      "6 Dateien gefunden\n"
     ]
    }
   ],
   "execution_count": 4
  },
  {
   "metadata": {
    "ExecuteTime": {
     "end_time": "2025-09-30T13:05:36.967707Z",
     "start_time": "2025-09-30T13:05:36.960370Z"
    }
   },
   "cell_type": "code",
   "source": [
    "#gefundene Bilder in einen Order kopieren\n",
    "for src in hits:\n",
    "    dst = DEST_DIR / src.name\n",
    "    # Falls Datei schon existiert, eindeutigen Namen erzeugen\n",
    "    i, dst_candidate = 1, dst\n",
    "    while dst_candidate.exists():\n",
    "        dst_candidate = DEST_DIR / f\"{src.stem}__dup{i}{src.suffix}\"\n",
    "        i += 1\n",
    "    shutil.copy2(src, dst_candidate)\n",
    "\n",
    "print(f\"Alle Treffer nach {DEST_DIR} kopiert.\")\n"
   ],
   "id": "d54cd1af291f67c9",
   "outputs": [
    {
     "name": "stdout",
     "output_type": "stream",
     "text": [
      "Alle Treffer nach /Users/davidassmann/Desktop/GuI/GefilterteteBilder kopiert.\n"
     ]
    }
   ],
   "execution_count": 5
  }
 ],
 "metadata": {
  "kernelspec": {
   "display_name": "Python 3",
   "language": "python",
   "name": "python3"
  },
  "language_info": {
   "codemirror_mode": {
    "name": "ipython",
    "version": 2
   },
   "file_extension": ".py",
   "mimetype": "text/x-python",
   "name": "python",
   "nbconvert_exporter": "python",
   "pygments_lexer": "ipython2",
   "version": "2.7.6"
  }
 },
 "nbformat": 4,
 "nbformat_minor": 5
}
