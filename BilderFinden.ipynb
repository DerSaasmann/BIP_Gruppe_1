{
 "cells": [
  {
   "cell_type": "code",
   "execution_count": null,
   "id": "initial_id",
   "metadata": {
    "collapsed": true
   },
   "outputs": [],
   "source": [
    "from pathlib import Path\n",
    "import shutil\n",
    "import pandas as pd\n",
    "from datetime import datetime"
   ]
  },
  {
   "metadata": {},
   "cell_type": "code",
   "outputs": [],
   "execution_count": null,
   "source": [
    "# --- Einstellungen ---\n",
    "ROOT_DIR = Path(\"/Pfad/zum/Wurzelordner/mit/allen/Bildern\")  # anpassen\n",
    "PREFIXES = [\"1-2024-0062\"]  # mehrere möglich\n",
    "EXTS = {\".jpg\", \".jpeg\", \".png\", \".tif\", \".tiff\"}\n",
    "CASE_INSENSITIVE = True\n",
    "ONLY_PREFIX_START = True\n",
    "\n",
    "# Zielordner (wird neu erstellt, falls er nicht existiert)\n",
    "DEST_DIR = Path(\"/Pfad/wohin/die/Treffer/kopiert/werden/sollen\")\n",
    "DEST_DIR.mkdir(parents=True, exist_ok=True)"
   ],
   "id": "86e8d995d4a2a0c"
  },
  {
   "metadata": {},
   "cell_type": "code",
   "outputs": [],
   "execution_count": null,
   "source": [
    "#die richtigen Bilder finden\n",
    "def find_images_by_prefix(root: Path, prefixes, exts, case_insensitive=True, only_prefix_start=True):\n",
    "    prefixes_norm = [p.lower().strip() if case_insensitive else p.strip() for p in prefixes]\n",
    "    results = []\n",
    "\n",
    "    for p in root.rglob(\"*\"):\n",
    "        if not p.is_file():\n",
    "            continue\n",
    "        if p.suffix.lower() not in exts:\n",
    "            continue\n",
    "\n",
    "        name = p.name\n",
    "        key = name.lower() if case_insensitive else name\n",
    "\n",
    "        for pref in prefixes_norm:\n",
    "            if only_prefix_start and key.startswith(pref):\n",
    "                results.append(p)\n",
    "                break\n",
    "            elif not only_prefix_start and pref in key:\n",
    "                results.append(p)\n",
    "                break\n",
    "\n",
    "    return results\n",
    "\n",
    "hits = find_images_by_prefix(ROOT_DIR, PREFIXES, EXTS, case_insensitive=CASE_INSENSITIVE, only_prefix_start=ONLY_PREFIX_START)\n",
    "print(f\"{len(hits)} Dateien gefunden\")\n"
   ],
   "id": "59a3f51d750fb87f"
  },
  {
   "metadata": {},
   "cell_type": "code",
   "outputs": [],
   "execution_count": null,
   "source": [
    "#gefundene Bilder in einen Order kopieren\n",
    "for src in hits:\n",
    "    dst = DEST_DIR / src.name\n",
    "    # Falls Datei schon existiert, eindeutigen Namen erzeugen\n",
    "    i, dst_candidate = 1, dst\n",
    "    while dst_candidate.exists():\n",
    "        dst_candidate = DEST_DIR / f\"{src.stem}__dup{i}{src.suffix}\"\n",
    "        i += 1\n",
    "    shutil.copy2(src, dst_candidate)\n",
    "\n",
    "print(f\"Alle Treffer nach {DEST_DIR} kopiert.\")\n"
   ],
   "id": "d54cd1af291f67c9"
  }
 ],
 "metadata": {
  "kernelspec": {
   "display_name": "Python 3",
   "language": "python",
   "name": "python3"
  },
  "language_info": {
   "codemirror_mode": {
    "name": "ipython",
    "version": 2
   },
   "file_extension": ".py",
   "mimetype": "text/x-python",
   "name": "python",
   "nbconvert_exporter": "python",
   "pygments_lexer": "ipython2",
   "version": "2.7.6"
  }
 },
 "nbformat": 4,
 "nbformat_minor": 5
}
